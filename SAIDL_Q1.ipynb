{
  "cells": [
    {
      "cell_type": "markdown",
      "source": [
        "# Softmax **Function**"
      ],
      "metadata": {
        "id": "VX8nc5G3dBPK"
      }
    },
    {
      "cell_type": "code",
      "execution_count": null,
      "metadata": {
        "id": "HjN2FdnP91Ri"
      },
      "outputs": [],
      "source": [
        "import torch\n",
        "from torch import nn\n",
        "\n",
        "\n",
        "import torchvision\n",
        "from torchvision import datasets\n",
        "from torchvision.transforms import ToTensor\n",
        "\n",
        "import matplotlib.pyplot as plt\n",
        "from sklearn.metrics import accuracy_score as accuracy_fn\n"
      ]
    },
    {
      "cell_type": "code",
      "execution_count": null,
      "metadata": {
        "id": "F1WRS3NbLe0V"
      },
      "outputs": [],
      "source": [
        "device = \"cuda\" if torch.cuda.is_available() else \"cpu\""
      ]
    },
    {
      "cell_type": "markdown",
      "metadata": {
        "id": "VskQeVAt_GkC"
      },
      "source": [
        "Import CIFAR 100 Dataset using the datasets model of torchvision"
      ]
    },
    {
      "cell_type": "code",
      "execution_count": null,
      "metadata": {
        "colab": {
          "base_uri": "https://localhost:8080/"
        },
        "id": "3UHyoXJJ_C9R",
        "outputId": "e1809cad-04c4-4850-8058-93d83b80f7e8"
      },
      "outputs": [
        {
          "output_type": "stream",
          "name": "stdout",
          "text": [
            "Files already downloaded and verified\n",
            "Files already downloaded and verified\n"
          ]
        }
      ],
      "source": [
        "train_data = datasets.CIFAR100(\n",
        "    root = \"data\",\n",
        "    train = True,\n",
        "    download = True,\n",
        "    transform = ToTensor(),\n",
        "    target_transform = None\n",
        ")\n",
        "\n",
        "test_data = datasets.CIFAR100(\n",
        "    root = \"data\",\n",
        "    train = False,\n",
        "    download = True,\n",
        "    transform = ToTensor()\n",
        ")\n"
      ]
    },
    {
      "cell_type": "code",
      "execution_count": null,
      "metadata": {
        "colab": {
          "base_uri": "https://localhost:8080/"
        },
        "id": "9jVV2buU_Dac",
        "outputId": "d48ab61d-5553-474e-aa19-6a09163fb29e"
      },
      "outputs": [
        {
          "output_type": "stream",
          "name": "stdout",
          "text": [
            "torch.Size([3, 32, 32])\n",
            "50000 10000\n",
            "['apple', 'aquarium_fish', 'baby', 'bear', 'beaver', 'bed', 'bee', 'beetle', 'bicycle', 'bottle', 'bowl', 'boy', 'bridge', 'bus', 'butterfly', 'camel', 'can', 'castle', 'caterpillar', 'cattle', 'chair', 'chimpanzee', 'clock', 'cloud', 'cockroach', 'couch', 'crab', 'crocodile', 'cup', 'dinosaur', 'dolphin', 'elephant', 'flatfish', 'forest', 'fox', 'girl', 'hamster', 'house', 'kangaroo', 'keyboard', 'lamp', 'lawn_mower', 'leopard', 'lion', 'lizard', 'lobster', 'man', 'maple_tree', 'motorcycle', 'mountain', 'mouse', 'mushroom', 'oak_tree', 'orange', 'orchid', 'otter', 'palm_tree', 'pear', 'pickup_truck', 'pine_tree', 'plain', 'plate', 'poppy', 'porcupine', 'possum', 'rabbit', 'raccoon', 'ray', 'road', 'rocket', 'rose', 'sea', 'seal', 'shark', 'shrew', 'skunk', 'skyscraper', 'snail', 'snake', 'spider', 'squirrel', 'streetcar', 'sunflower', 'sweet_pepper', 'table', 'tank', 'telephone', 'television', 'tiger', 'tractor', 'train', 'trout', 'tulip', 'turtle', 'wardrobe', 'whale', 'willow_tree', 'wolf', 'woman', 'worm']\n",
            "{'apple': 0, 'aquarium_fish': 1, 'baby': 2, 'bear': 3, 'beaver': 4, 'bed': 5, 'bee': 6, 'beetle': 7, 'bicycle': 8, 'bottle': 9, 'bowl': 10, 'boy': 11, 'bridge': 12, 'bus': 13, 'butterfly': 14, 'camel': 15, 'can': 16, 'castle': 17, 'caterpillar': 18, 'cattle': 19, 'chair': 20, 'chimpanzee': 21, 'clock': 22, 'cloud': 23, 'cockroach': 24, 'couch': 25, 'crab': 26, 'crocodile': 27, 'cup': 28, 'dinosaur': 29, 'dolphin': 30, 'elephant': 31, 'flatfish': 32, 'forest': 33, 'fox': 34, 'girl': 35, 'hamster': 36, 'house': 37, 'kangaroo': 38, 'keyboard': 39, 'lamp': 40, 'lawn_mower': 41, 'leopard': 42, 'lion': 43, 'lizard': 44, 'lobster': 45, 'man': 46, 'maple_tree': 47, 'motorcycle': 48, 'mountain': 49, 'mouse': 50, 'mushroom': 51, 'oak_tree': 52, 'orange': 53, 'orchid': 54, 'otter': 55, 'palm_tree': 56, 'pear': 57, 'pickup_truck': 58, 'pine_tree': 59, 'plain': 60, 'plate': 61, 'poppy': 62, 'porcupine': 63, 'possum': 64, 'rabbit': 65, 'raccoon': 66, 'ray': 67, 'road': 68, 'rocket': 69, 'rose': 70, 'sea': 71, 'seal': 72, 'shark': 73, 'shrew': 74, 'skunk': 75, 'skyscraper': 76, 'snail': 77, 'snake': 78, 'spider': 79, 'squirrel': 80, 'streetcar': 81, 'sunflower': 82, 'sweet_pepper': 83, 'table': 84, 'tank': 85, 'telephone': 86, 'television': 87, 'tiger': 88, 'tractor': 89, 'train': 90, 'trout': 91, 'tulip': 92, 'turtle': 93, 'wardrobe': 94, 'whale': 95, 'willow_tree': 96, 'wolf': 97, 'woman': 98, 'worm': 99}\n"
          ]
        }
      ],
      "source": [
        "# Checking the shape of the image\n",
        "print(train_data[0][0].shape)\n",
        "\n",
        "# Checking size of the data\n",
        "print(len(train_data), len(test_data))\n",
        "\n",
        "# Checking different categories in the data\n",
        "print(train_data.classes)\n",
        "print(train_data.class_to_idx)"
      ]
    },
    {
      "cell_type": "markdown",
      "metadata": {
        "id": "cQ9RR6CnBnAe"
      },
      "source": [
        "Plotting first 16 images of the training data\n",
        "\n"
      ]
    },
    {
      "cell_type": "code",
      "execution_count": null,
      "metadata": {
        "colab": {
          "base_uri": "https://localhost:8080/",
          "height": 752
        },
        "id": "M6Y3DAZSAk7H",
        "outputId": "8883da35-7091-468f-8ffb-50b0d0b8af9b"
      },
      "outputs": [
        {
          "output_type": "display_data",
          "data": {
            "text/plain": [
              "<Figure size 900x900 with 16 Axes>"
            ],
            "image/png": "[encoded data removed]"
          },
          "metadata": {}
        }
      ],
      "source": [
        "fig = plt.figure(figsize= (9,9))\n",
        "rows, cols = 4,4\n",
        "for i in range(1, rows*cols + 1):\n",
        "  img, label = train_data[i]\n",
        "  fig.add_subplot(rows, cols, i)\n",
        "  plt.imshow(img.permute(1,2,0))\n",
        "  plt.title(train_data.classes[label])\n",
        "  plt.axis(False)"
      ]
    },
    {
      "cell_type": "markdown",
      "metadata": {
        "id": "vG_q_hD9DqdJ"
      },
      "source": [
        "As we are gonna use batch gradient descent for training the data we are gonna gonna divide the training data into batches of 32 using pytorch inbuilt module of DataLoader."
      ]
    },
    {
      "cell_type": "code",
      "execution_count": null,
      "metadata": {
        "colab": {
          "base_uri": "https://localhost:8080/"
        },
        "id": "hhZ5nfgHCbzL",
        "outputId": "d9629281-4abb-4039-9b9b-e282b5fe744b"
      },
      "outputs": [
        {
          "output_type": "stream",
          "name": "stdout",
          "text": [
            "Dataloaders: (<torch.utils.data.dataloader.DataLoader object at 0x7f3114919d00>, <torch.utils.data.dataloader.DataLoader object at 0x7f3116dfc610>)\n",
            "Length of train dataloader: 1563 batches of 32\n",
            "Length of test dataloader: 313 batches of 32\n"
          ]
        }
      ],
      "source": [
        "from torch.utils.data import DataLoader\n",
        "\n",
        "BATCH_SIZE = 32\n",
        "\n",
        "train_dataloader = DataLoader(\n",
        "    train_data,\n",
        "    batch_size = BATCH_SIZE,\n",
        "    shuffle = True\n",
        ")\n",
        "\n",
        "test_dataloader = DataLoader(test_data,\n",
        "    batch_size=BATCH_SIZE,\n",
        "    shuffle=False\n",
        ")\n",
        "print(f\"Dataloaders: {train_dataloader, test_dataloader}\") \n",
        "print(f\"Length of train dataloader: {len(train_dataloader)} batches of {BATCH_SIZE}\")\n",
        "print(f\"Length of test dataloader: {len(test_dataloader)} batches of {BATCH_SIZE}\")"
      ]
    },
    {
      "cell_type": "markdown",
      "metadata": {
        "id": "3ddDgPahFSFx"
      },
      "source": [
        "Building the Convolutional Neural Network here , specifically I am using the Tiny VGG architecture.\n",
        "\n"
      ]
    },
    {
      "cell_type": "code",
      "execution_count": null,
      "metadata": {
        "id": "23jZAQSbEzrH"
      },
      "outputs": [],
      "source": [
        "class CIFAR_Decoder(nn.Module):\n",
        "  def __init__(self):\n",
        "    super().__init__()\n",
        "    self.block_1 = nn.Sequential(\n",
        "        nn.Conv2d(in_channels = 3, \n",
        "                  out_channels = 10,\n",
        "                  kernel_size = 3,\n",
        "                  stride = 1,\n",
        "                  padding = 1),\n",
        "        nn.ReLU(),\n",
        "        nn.Conv2d(in_channels = 10,\n",
        "                  out_channels = 10,\n",
        "                  kernel_size = 3,\n",
        "                  stride = 1,\n",
        "                  padding = 1),\n",
        "        nn.ReLU(),\n",
        "        nn.MaxPool2d(kernel_size =2,\n",
        "                     stride = 2)\n",
        "    )\n",
        "    self.block_2 = nn.Sequential(\n",
        "            nn.Conv2d(10, 10, 3, padding=1),\n",
        "            nn.ReLU(),\n",
        "            nn.Conv2d(10, 10, 3, padding=1),\n",
        "            nn.ReLU(),\n",
        "            nn.MaxPool2d(2)\n",
        "        )\n",
        "    self.classifier = nn.Sequential(\n",
        "            nn.Flatten(),\n",
        "            nn.Linear(in_features=640, ## Found using relation between output and input layers shape\n",
        "                      out_features=100)\n",
        "        )\n",
        "  def forward(self, x: torch.Tensor):\n",
        "    x = self.block_1(x)\n",
        "    x = self.block_2(x)\n",
        "    x = self.classifier(x)\n",
        "    return x\n",
        "model_1 = CIFAR_Decoder().to(device)"
      ]
    },
    {
      "cell_type": "markdown",
      "metadata": {
        "id": "XaQ1Fi3rQExA"
      },
      "source": [
        "Setting up accuracy_fn, loss_fn, optimizer"
      ]
    },
    {
      "cell_type": "code",
      "execution_count": null,
      "metadata": {
        "id": "kbbJTd8DHChv"
      },
      "outputs": [],
      "source": [
        "loss_fn_1 = nn.CrossEntropyLoss()\n",
        "optimizer_1 = torch.optim.SGD(params=model_1.parameters(), lr=0.01)\n",
        "activator = nn.Softmax(dim=1)"
      ]
    },
    {
      "cell_type": "markdown",
      "metadata": {
        "id": "uEN9oAh5R3nI"
      },
      "source": [
        "Setting up the timer"
      ]
    },
    {
      "cell_type": "code",
      "execution_count": null,
      "metadata": {
        "id": "7TsqKzotRB3G"
      },
      "outputs": [],
      "source": [
        "from timeit import default_timer as timer \n",
        "def print_train_time(start:float, end:float):\n",
        "  total_time = end - start\n",
        "  print(f\"Train time is: {total_time:.3f} seconds\")\n",
        "  return total_time"
      ]
    },
    {
      "cell_type": "markdown",
      "metadata": {
        "id": "_JYbAjmRSmYW"
      },
      "source": [
        "Creating the training and testing loop on data"
      ]
    },
    {
      "cell_type": "code",
      "execution_count": null,
      "metadata": {
        "id": "qAWTGBTCSNZX"
      },
      "outputs": [],
      "source": [
        "def train_step(model: torch.nn.Module,\n",
        "               data_loader: torch.utils.data.DataLoader,\n",
        "               loss_fn: torch.nn.Module,\n",
        "               optimizer: torch.optim.Optimizer,\n",
        "               accuracy_fn,\n",
        "               device: torch.device = device):\n",
        "    train_loss, train_acc = 0, 0\n",
        "    for batch, (X, y) in enumerate(data_loader):\n",
        "        # Send data to GPU\n",
        "        X, y = X.to(device), y.to(device)\n",
        "\n",
        "        # 1. Forward pass\n",
        "        y_pred = model(X)\n",
        "        \n",
        "        \n",
        "\n",
        "        # 2. Calculate loss\n",
        "        loss = loss_fn(y_pred, y)\n",
        "        train_loss += loss\n",
        "        train_acc += accuracy_fn(y,activator(y_pred).argmax(dim=1)\n",
        "                                 ) # Go from logits -> pred labels\n",
        "\n",
        "        # 3. Optimizer zero grad\n",
        "        optimizer.zero_grad()\n",
        "\n",
        "        # 4. Loss backward\n",
        "        loss.backward()\n",
        "\n",
        "        # 5. Optimizer step\n",
        "        optimizer.step()\n",
        "\n",
        "    # Calculate loss and accuracy per epoch and print out what's happening\n",
        "    train_loss /= len(data_loader)\n",
        "    train_acc /= len(data_loader)\n",
        "    print(f\"Train loss: {train_loss:.5f} | Train accuracy: {train_acc:.2f}\")\n",
        "\n",
        "def test_step(data_loader: torch.utils.data.DataLoader,\n",
        "              model: torch.nn.Module,\n",
        "              loss_fn: torch.nn.Module,\n",
        "              accuracy_fn,\n",
        "              device: torch.device = device):\n",
        "    test_loss, test_acc = 0, 0\n",
        "    model.eval() # put model in eval mode\n",
        "    # Turn on inference context manager\n",
        "    with torch.inference_mode(): \n",
        "        for X, y in data_loader:\n",
        "            # Send data to GPU\n",
        "            X, y = X.to(device), y.to(device)\n",
        "            \n",
        "            # 1. Forward pass\n",
        "            test_pred = model(X)\n",
        "            \n",
        "            # 2. Calculate loss and accuracy\n",
        "            test_loss += loss_fn(test_pred, y)\n",
        "            test_acc += accuracy_fn(y,activator(test_pred).argmax(dim=1)\n",
        "                ) # Go from logits -> pred labels\n",
        "            \n",
        "        \n",
        "        # Adjust metrics and print out\n",
        "        test_loss /= len(data_loader)\n",
        "        test_acc /= len(data_loader)\n",
        "        print(f\"Test loss: {test_loss:.5f} | Test accuracy: {test_acc:.2f}\\n\")\n",
        "        "
      ]
    },
    {
      "cell_type": "code",
      "execution_count": null,
      "metadata": {
        "colab": {
          "base_uri": "https://localhost:8080/",
          "height": 960,
          "referenced_widgets": [
            "c878da25f6d24bda965e292ee6156be9",
            "5583a9ef8d7846beb4371fe5322edd32",
            "295bfcab851042eb9263b064a215289a",
            "1524d03255144e669505a25178513d12",
            "27e3ce4c34f6413083d2d3c0c4e65a61",
            "a3b91ae554924887b32069dcd43972e1",
            "2dc4b3e40fb144ccb324456fc63f1042",
            "9d4d8c12be6c4b4598c22807f979082e",
            "7891cbc7f88e4cb49d0ed514b1b5777a",
            "c52e928814864943bdb2f28cdf91c46a",
            "346fdf4fe7824aaa8c972e7dbed94e00"
          ]
        },
        "id": "GomgosDPSp11",
        "outputId": "79eb3e4b-1ff2-478f-f617-5318db39f95f"
      },
      "outputs": [
        {
          "output_type": "display_data",
          "data": {
            "text/plain": [
              "  0%|          | 0/10 [00:00<?, ?it/s]"
            ],
            "application/vnd.jupyter.widget-view+json": {
              "version_major": 2,
              "version_minor": 0,
              "model_id": "c878da25f6d24bda965e292ee6156be9"
            }
          },
          "metadata": {}
        },
        {
          "output_type": "stream",
          "name": "stdout",
          "text": [
            "Epoch: 0\n",
            "---------\n",
            "Train loss: 4.60554 | Train accuracy: 0.01\n",
            "Test loss: 4.60502 | Test accuracy: 0.01\n",
            "\n",
            "Epoch: 1\n",
            "---------\n",
            "Train loss: 4.60472 | Train accuracy: 0.01\n",
            "Test loss: 4.60355 | Test accuracy: 0.02\n",
            "\n",
            "Epoch: 2\n",
            "---------\n",
            "Train loss: 4.58535 | Train accuracy: 0.02\n",
            "Test loss: 4.50001 | Test accuracy: 0.03\n",
            "\n",
            "Epoch: 3\n",
            "---------\n",
            "Train loss: 4.27070 | Train accuracy: 0.06\n",
            "Test loss: 4.15222 | Test accuracy: 0.07\n",
            "\n",
            "Epoch: 4\n",
            "---------\n",
            "Train loss: 4.05047 | Train accuracy: 0.09\n",
            "Test loss: 3.97374 | Test accuracy: 0.09\n",
            "\n",
            "Epoch: 5\n",
            "---------\n",
            "Train loss: 3.81520 | Train accuracy: 0.13\n",
            "Test loss: 3.82802 | Test accuracy: 0.13\n",
            "\n",
            "Epoch: 6\n",
            "---------\n",
            "Train loss: 3.61909 | Train accuracy: 0.17\n",
            "Test loss: 3.72120 | Test accuracy: 0.16\n",
            "\n",
            "Epoch: 7\n",
            "---------\n",
            "Train loss: 3.44228 | Train accuracy: 0.20\n",
            "Test loss: 3.45667 | Test accuracy: 0.20\n",
            "\n",
            "Epoch: 8\n",
            "---------\n",
            "Train loss: 3.30011 | Train accuracy: 0.23\n",
            "Test loss: 3.37055 | Test accuracy: 0.21\n",
            "\n",
            "Epoch: 9\n",
            "---------\n",
            "Train loss: 3.18901 | Train accuracy: 0.24\n",
            "Test loss: 3.30658 | Test accuracy: 0.23\n",
            "\n",
            "Train time is: 612.476 seconds\n"
          ]
        }
      ],
      "source": [
        "# Measure time\n",
        "from timeit import default_timer as timer\n",
        "train_time_start_model_1 = timer()\n",
        "from tqdm.auto import tqdm\n",
        "# Train and test model \n",
        "epochs = 10\n",
        "for epoch in tqdm(range(epochs)):\n",
        "    print(f\"Epoch: {epoch}\\n---------\")\n",
        "    train_step(data_loader=train_dataloader, \n",
        "        model=model_1, \n",
        "        loss_fn=loss_fn_1,\n",
        "        optimizer=optimizer_1,\n",
        "        accuracy_fn=accuracy_fn,\n",
        "        device=device\n",
        "    )\n",
        "    test_step(data_loader=test_dataloader,\n",
        "        model=model_1,\n",
        "        loss_fn=loss_fn_1,\n",
        "        accuracy_fn=accuracy_fn,\n",
        "        device=device\n",
        "    )\n",
        "\n",
        "train_time_end_model_1 = timer()\n",
        "total_train_time_model_1 = print_train_time(start=train_time_start_model_1,\n",
        "                                           end=train_time_end_model_1,\n",
        "                                           )"
      ]
    },
    {
      "cell_type": "code",
      "source": [
        "model_1.load_state_dict(torch.load(f=\"/content/03_pytorch_computer_vision_model_1 (1).pth\"))\n",
        "\n",
        "# Send model to GPU\n",
        "model_1 = model_1.to(device)"
      ],
      "metadata": {
        "id": "DsdPs0m2dp-r"
      },
      "execution_count": null,
      "outputs": []
    },
    {
      "cell_type": "markdown",
      "source": [
        "# **Gumbel_Softmax**"
      ],
      "metadata": {
        "id": "zrfaKY0veFy5"
      }
    },
    {
      "cell_type": "code",
      "execution_count": null,
      "metadata": {
        "id": "xoW8abiybNqm"
      },
      "outputs": [],
      "source": [
        "def gumbel_softmax_sample(logits):\n",
        "    disturbance = -torch.log(-torch.log(torch.rand(logits.size()) + 1e-20) + 1e-20)\n",
        "    y = logits + disturbance\n",
        "\n",
        "    return torch.softmax(y, dim=-1)\n"
      ]
    },
    {
      "cell_type": "code",
      "source": [
        "class Gumbel_CIFAR_Decoder(nn.Module):\n",
        "  def __init__(self):\n",
        "    super().__init__()\n",
        "    self.block_1 = nn.Sequential(\n",
        "        nn.Conv2d(in_channels = 3, \n",
        "                  out_channels = 10,\n",
        "                  kernel_size = 3,\n",
        "                  stride = 1,\n",
        "                  padding = 1),\n",
        "        nn.ReLU(),\n",
        "        nn.Conv2d(in_channels = 10,\n",
        "                  out_channels = 10,\n",
        "                  kernel_size = 3,\n",
        "                  stride = 1,\n",
        "                  padding = 1),\n",
        "        nn.ReLU(),\n",
        "        nn.MaxPool2d(kernel_size =2,\n",
        "                     stride = 2)\n",
        "    )\n",
        "    self.block_2 = nn.Sequential(\n",
        "            nn.Conv2d(10, 10, 3, padding=1),\n",
        "            nn.ReLU(),\n",
        "            nn.Conv2d(10, 10, 3, padding=1),\n",
        "            nn.ReLU(),\n",
        "            nn.MaxPool2d(2)\n",
        "        )\n",
        "    self.classifier = nn.Sequential(\n",
        "            nn.Flatten(),\n",
        "            nn.Linear(in_features=640, ## Found using relation between output and input layers shape\n",
        "                      out_features=100)\n",
        "        )\n",
        "    \n",
        "  def forward(self, x: torch.Tensor):\n",
        "    x = self.block_1(x)\n",
        "    x = self.block_2(x)\n",
        "    x = self.classifier(x)\n",
        "    x = gumbel_softmax_sample(x)\n",
        "    return x\n",
        "model_2 = Gumbel_CIFAR_Decoder().to(device)"
      ],
      "metadata": {
        "id": "SEJFq2PBeREQ"
      },
      "execution_count": null,
      "outputs": []
    },
    {
      "cell_type": "code",
      "source": [
        "optimizer_2 = torch.optim.SGD(model_2.parameters(), lr =0.01)\n",
        "loss_fn_2 = nn.NLLLoss()"
      ],
      "metadata": {
        "id": "BnDgfzXFeW4P"
      },
      "execution_count": null,
      "outputs": []
    },
    {
      "cell_type": "code",
      "source": [
        "def train_step(model: torch.nn.Module,\n",
        "               data_loader: torch.utils.data.DataLoader,\n",
        "               loss_fn: torch.nn.Module,\n",
        "               optimizer: torch.optim.Optimizer,\n",
        "               accuracy_fn,\n",
        "               loss_lst,\n",
        "               device: torch.device = device):\n",
        "    train_loss, train_acc = 0, 0\n",
        "    for batch, (X, y) in enumerate(data_loader):\n",
        "        # Send data to GPU\n",
        "        X, y = X.to(device), y.to(device) \n",
        "        \n",
        "        # 1. Forward pass\n",
        "        y_pred = model(X)\n",
        "        # 2. Calculate loss\n",
        "        loss = loss_fn(torch.log(y_pred),y)\n",
        "        \n",
        "        train_loss += loss\n",
        "        train_acc += accuracy_fn(y,y_pred.argmax(dim=1)\n",
        "                                 ) # Go from logits -> pred labels\n",
        "        if batch%500 == 0:\n",
        "          print(f'{batch}, {loss}')\n",
        "          loss_lst.append(loss)\n",
        "        # 3. Optimizer zero grad\n",
        "        optimizer.zero_grad()\n",
        "\n",
        "        # 4. Loss backward\n",
        "        loss.backward()\n",
        "\n",
        "        # 5. Optimizer step\n",
        "        optimizer.step()\n",
        "\n",
        "    # Calculate loss and accuracy per epoch and print out what's happening\n",
        "    train_loss /= len(data_loader)\n",
        "    train_acc /= len(data_loader)\n",
        "    print(f\"Train loss: {train_loss:.5f} | Train accuracy: {train_acc:.2f}\")\n",
        "\n",
        "def test_step(data_loader: torch.utils.data.DataLoader,\n",
        "              model: torch.nn.Module,\n",
        "              loss_fn: torch.nn.Module,\n",
        "              accuracy_fn,\n",
        "              device: torch.device = device):\n",
        "    test_loss, test_acc = 0, 0\n",
        "    model.eval() # put model in eval mode\n",
        "    # Turn on inference context manager\n",
        "    with torch.inference_mode(): \n",
        "        for X, y in data_loader:\n",
        "            # Send data to GPU\n",
        "            X, y = X.to(device), y.to(device)\n",
        "            \n",
        "            # 1. Forward pass\n",
        "            test_pred = model(X)\n",
        "\n",
        "            # 2. Calculate loss and accuracy\n",
        "            test_loss += loss_fn(torch.log(test_pred),y)\n",
        "            test_acc += accuracy_fn(y,test_pred.argmax(dim=1)\n",
        "                ) # Go from logits -> pred labels\n",
        "            \n",
        "        \n",
        "        # Adjust metrics and print out\n",
        "        test_loss /= len(data_loader)\n",
        "        test_acc /= len(data_loader)\n",
        "        print(f\"Test loss: {test_loss:.5f} | Test accuracy: {test_acc:.2f}\\n\")"
      ],
      "metadata": {
        "id": "AxUq1EEKeed-"
      },
      "execution_count": null,
      "outputs": []
    },
    {
      "cell_type": "code",
      "source": [
        "# Measure time\n",
        "from timeit import default_timer as timer\n",
        "train_time_start_model_2 = timer()\n",
        "from tqdm.auto import tqdm\n",
        "# Train and test model \n",
        "epochs = 10\n",
        "losses = []\n",
        "for epoch in tqdm(range(epochs)):\n",
        "    print(f\"Epoch: {epoch}\\n---------\")\n",
        "    train_step(data_loader=train_dataloader, \n",
        "        model=model_2, \n",
        "        loss_fn=loss_fn_2,\n",
        "        optimizer=optimizer_2,\n",
        "        accuracy_fn=accuracy_fn,\n",
        "        loss_lst = losses,\n",
        "        device=device\n",
        "    )\n",
        "    \n",
        "    test_step(data_loader=test_dataloader,\n",
        "        model=model_2,\n",
        "        loss_fn=loss_fn_2,\n",
        "        accuracy_fn=accuracy_fn,\n",
        "        device=device\n",
        "    )\n",
        "\n",
        "train_time_end_model_2 = timer()\n",
        "total_train_time_model_2 = print_train_time(start=train_time_start_model_2,\n",
        "                                           end=train_time_end_model_2,\n",
        "                                           )"
      ],
      "metadata": {
        "id": "Pqs137XhekDN"
      },
      "execution_count": null,
      "outputs": []
    },
    {
      "cell_type": "code",
      "source": [
        "model_2.load_state_dict(torch.load(f=\"/content/03_gumbel_weights (2).pth\"))\n",
        "\n",
        "# Send model to GPU\n",
        "model_2 = model_2.to(device)"
      ],
      "metadata": {
        "id": "mT3_9otUey1c"
      },
      "execution_count": null,
      "outputs": []
    },
    {
      "cell_type": "markdown",
      "source": [
        "# **Hierarchial_Softmax**"
      ],
      "metadata": {
        "id": "FTsGiAAue7yE"
      }
    },
    {
      "cell_type": "code",
      "source": [
        "class H_Softmax(nn.Module):\n",
        "  def __init__(self):\n",
        "    super().__init__()\n",
        "    self.layers = nn.ModuleList([nn.Linear(in_features=100, out_features=1) for i in range(255)])\n",
        "    self.init_weights()\n",
        "\n",
        "  def init_weights(self):\n",
        "    for layer in self.layers:\n",
        "      torch.nn.init.xavier_uniform_(layer.weight)\n",
        "      if layer.bias is not None:\n",
        "        layer.bias.data.fill_(0.0)\n",
        "\n",
        "\n",
        "  def forward(self, y:torch.Tensor, x:torch.Tensor):\n",
        "    y = y.tolist()\n",
        "    probs_tensor = torch.ones((len(y), 1))\n",
        "    for k in y:\n",
        "      value_to_change = int(k)\n",
        "      idx = y.index(k)\n",
        "      hidden_x = x[idx,:]\n",
        "      k=k+127\n",
        "      for i in range(7):\n",
        "        if k%2 == 0:\n",
        "          probs_tensor[idx, :]*= torch.sigmoid((self.layers[int((k-1)/2)](hidden_x))).squeeze()\n",
        "        else:\n",
        "          probs_tensor[idx, :]*=torch.sigmoid((self.layers[int((k-1)/2)](-hidden_x))).squeeze()\n",
        "        k = int((k-1)/2)\n",
        "    \n",
        "    return probs_tensor"
      ],
      "metadata": {
        "id": "j0MYR8uae6V3"
      },
      "execution_count": null,
      "outputs": []
    },
    {
      "cell_type": "code",
      "source": [
        "class H_Softmax_CIFAR_Decoder(nn.Module):\n",
        "  def __init__(self):\n",
        "    super().__init__()\n",
        "    self.block_1 = nn.Sequential(\n",
        "        nn.Conv2d(in_channels = 3, \n",
        "                  out_channels = 10,\n",
        "                  kernel_size = 3,\n",
        "                  stride = 1,\n",
        "                  padding = 1),\n",
        "        nn.ReLU(),\n",
        "        nn.Conv2d(in_channels = 10,\n",
        "                  out_channels = 10,\n",
        "                  kernel_size = 3,\n",
        "                  stride = 1,\n",
        "                  padding = 1),\n",
        "        nn.ReLU(),\n",
        "        nn.MaxPool2d(kernel_size =2,\n",
        "                     stride = 2)\n",
        "    )\n",
        "    self.block_2 = nn.Sequential(\n",
        "            nn.Conv2d(10, 10, 3, padding=1),\n",
        "            nn.ReLU(),\n",
        "            nn.Conv2d(10, 10, 3, padding=1),\n",
        "            nn.ReLU(),\n",
        "            nn.MaxPool2d(2)\n",
        "        )\n",
        "    self.classifier = nn.Sequential(\n",
        "            nn.Flatten(),\n",
        "            nn.Linear(in_features=640, ## Found using relation between output and input layers shape\n",
        "                      out_features=100)\n",
        "      \n",
        "        )\n",
        "    self.activation = H_Softmax()\n",
        "  def forward(self,y, x: torch.Tensor):\n",
        "    x = self.block_1(x)\n",
        "    x = self.block_2(x)\n",
        "    x = self.classifier(x)\n",
        "    hidden = x\n",
        "    x = self.activation(y,x)\n",
        "    return x, hidden\n",
        "model_3 = H_Softmax_CIFAR_Decoder().to(device)"
      ],
      "metadata": {
        "id": "K5fbvbJCfDxH"
      },
      "execution_count": null,
      "outputs": []
    },
    {
      "cell_type": "code",
      "source": [
        "optimizer_3 = torch.optim.SGD(params=model_3.parameters(), lr=0.01)\n",
        "loss_fn_3 = nn.NLLLoss()"
      ],
      "metadata": {
        "id": "HkfNL11efLnY"
      },
      "execution_count": null,
      "outputs": []
    },
    {
      "cell_type": "code",
      "source": [
        "def predict(layers, position, p:torch.Tensor,x:torch.Tensor):\n",
        "  if int(p[:,position]) != -1:\n",
        "    return p[:,position]\n",
        "  else:\n",
        "    if position%2 == 0:\n",
        "      p[:,position] = predict(layers, int((position-1)/2), p, x)*torch.sigmoid(layers[int((position-1)/2)](x))\n",
        "    else:\n",
        "      p[:,position] = predict(layers, int((position-1)/2), p, x)*torch.sigmoid(layers[int((position-1)/2)](-x))\n",
        "    return p[:,position]"
      ],
      "metadata": {
        "id": "v4dgDxR-fSsM"
      },
      "execution_count": null,
      "outputs": []
    },
    {
      "cell_type": "code",
      "source": [
        "def train_step(model1: torch.nn.Module,\n",
        "               #model2: torch.nn.Module,\n",
        "               data_loader: torch.utils.data.DataLoader,\n",
        "               loss_fn: torch.nn.Module,\n",
        "               optimizer: torch.optim.Optimizer,\n",
        "               #optimizer_tree:torch.optim.Optimizer,\n",
        "               accuracy_fn,\n",
        "               loss_lst,\n",
        "               device: torch.device = device):\n",
        "    train_loss, train_acc = 0, 0\n",
        "    for batch, (X, y) in enumerate(data_loader):\n",
        "        # Send data to GPU\n",
        "      \n",
        "        X, y = X.to(device), y.to(device)\n",
        "        \n",
        "        # 1. Forward pass\n",
        "        y_pred, hidden_x = model1(y,X)\n",
        "        \n",
        "        # 2. Calculate loss\n",
        "        loss = loss_fn(torch.log(y_pred),torch.zeros(len(y), dtype=torch.long))\n",
        "        \n",
        "        \n",
        "        if(batch % 500) == 0:\n",
        "          loss_lst.append(loss.item())\n",
        "          #print(type(loss))\n",
        "          print(f\"{batch}, {loss}\")\n",
        "        \n",
        "          probs_final = torch.ones((hidden_x.shape[0], 100))\n",
        "          for i in range(hidden_x.shape[0]):\n",
        "            hidden_x1 = hidden_x[i,:]\n",
        "            probs = torch.ones((1,255))*-1\n",
        "            probs[:,0] = 1\n",
        "            for k in range(127,227):\n",
        "              predict(model.activation.layers, k, probs, hidden_x1)\n",
        "            \n",
        "            probs_final[i,:] = probs[:, 127:227]\n",
        "        \n",
        "          accuracy = accuracy_fn(y,probs_final.argmax(dim=1))\n",
        "          print(f\"Accuracy is {accuracy}\")\n",
        "        train_loss = train_loss + loss\n",
        "        # Go from logits -> pred labels\n",
        "        # 3. Optimizer zero grad\n",
        "        ## Have to do train accuracy\n",
        "        \n",
        "        optimizer.zero_grad()\n",
        "        \n",
        "        # 4. Loss backward\n",
        "        \n",
        "        loss.backward()\n",
        "        # 5. Optimizer step\n",
        "        optimizer.step()\n",
        "\n",
        "    # Calculate loss and accuracy per epoch and print out what's happening\n",
        "    train_loss /= len(data_loader)\n",
        "    train_acc /= len(data_loader)\n",
        "    print(f\"Train loss: {train_loss:.5f} | Train accuracy: {train_acc:.2f}\")\n",
        "\n",
        "def test_step(data_loader: torch.utils.data.DataLoader,\n",
        "              model1: torch.nn.Module,\n",
        "              #model2: torch.nn.Module,\n",
        "              loss_fn: torch.nn.Module,\n",
        "              accuracy_fn,\n",
        "              device: torch.device = device):\n",
        "    test_loss, test_acc = 0, 0\n",
        "    model.eval() # put model in eval mode\n",
        "    # Turn on inference context manager\n",
        "    with torch.inference_mode(): \n",
        "        for X, y in data_loader:\n",
        "            # Send data to GPU\n",
        "            X, y = X.to(device), y.to(device)\n",
        "            \n",
        "            # 1. Forward pass\n",
        "            test_pred,test_hidden = model1(y,X)            \n",
        "            # 2. Calculate loss and accuracy\n",
        "            test_loss = test_loss + loss_fn(torch.log(test_pred),torch.zeros(len(y), dtype=torch.long))\n",
        "            probs_final = torch.ones((test_hidden.shape[0], 100))\n",
        "            for i in range(test_hidden.shape[0]):\n",
        "              test_hidden_x1 = test_hidden[i,:]\n",
        "              probs = torch.ones((1,255))*-1\n",
        "              probs[:,0] = 1\n",
        "              for k in range(127,227):\n",
        "                predict(model.activation.layers, k, probs, test_hidden_x1)\n",
        "              probs_final[i,:] = probs[:, 127:227]\n",
        "            accuracy = accuracy_fn(y,probs_final.argmax(dim=1))\n",
        "            test_acc+=accuracy\n",
        "\n",
        "        # Go from logits -> pred labels  \n",
        "        # Adjust metrics and print out\n",
        "        test_loss /= len(data_loader)\n",
        "        test_acc /= len(data_loader)\n",
        "        print(f\"Test loss: {test_loss:.5f} | Test accuracy: {test_acc:.2f}\\n\")\n"
      ],
      "metadata": {
        "id": "nlfrFCWafk_T"
      },
      "execution_count": null,
      "outputs": []
    },
    {
      "cell_type": "code",
      "source": [
        "# Measure time\n",
        "from timeit import default_timer as timer\n",
        "train_time_start_model = timer()\n",
        "from tqdm.auto import tqdm\n",
        "losses = []\n",
        "# Train and test model \n",
        "epochs = 10\n",
        "for epoch in tqdm(range(epochs)):\n",
        "    print(f\"Epoch: {epoch}\\n---------\")\n",
        "    train_step(data_loader=train_dataloader, \n",
        "        model1=model_3,\n",
        "        loss_fn=loss_fn_3,\n",
        "        optimizer=optimizer_3,\n",
        "        accuracy_fn=accuracy_fn,\n",
        "        loss_lst=losses,\n",
        "        device=device\n",
        "    )\n",
        "    \n",
        "    test_step(data_loader=test_dataloader,\n",
        "        model1=model_3,\n",
        "        loss_fn=loss_fn_3,\n",
        "        accuracy_fn=accuracy_fn,\n",
        "        device=device\n",
        "    )\n",
        "\n",
        "train_time_end_model = timer()\n",
        "total_train_time_model = print_train_time(start=train_time_start_model,\n",
        "                                           end=train_time_end_model,\n",
        "                                           )"
      ],
      "metadata": {
        "id": "n-DBDlXRfpj_"
      },
      "execution_count": null,
      "outputs": []
    },
    {
      "cell_type": "code",
      "source": [
        "model_3.load_state_dict(torch.load(f=\"/content/H_Softmax_parameters\"))\n",
        "\n",
        "# Send model to GPU\n",
        "model_3 = model_3.to(device)"
      ],
      "metadata": {
        "id": "KichgTEufsel"
      },
      "execution_count": null,
      "outputs": []
    },
    {
      "cell_type": "markdown",
      "source": [
        "# Evaluation **Metrics**"
      ],
      "metadata": {
        "id": "2BirSUlagIQn"
      }
    },
    {
      "cell_type": "code",
      "source": [
        "#find predicted values of model_1\n",
        "y_test = []\n",
        "y_pred_1 = []\n",
        "y_pred_2 = []\n",
        "y_pred_3 = []\n",
        "k1 = []\n",
        "k2 = []\n",
        "k3 = []\n",
        "\n",
        "with torch.inference_mode():\n",
        "  for X,y in test_dataloader:\n",
        "      X, y = X.to(device), y.to(device)\n",
        "      y_test += y.tolist()\n",
        "      test_pred_1 = model_1(X)\n",
        "      test_pred_2 = model_2(X)\n",
        "      k1 += activator(test_pred_1).argmax(dim=1)\n",
        "      k2 += test_pred_2.argmax(dim=1)\n",
        "      test_pred_3,test_hidden = model_3(y,X)\n",
        "      probs_final = torch.ones((test_hidden.shape[0], 100))\n",
        "      for i in range(test_hidden.shape[0]):\n",
        "        test_hidden_x1 = test_hidden[i,:]\n",
        "        probs = torch.ones((1,255))*-1\n",
        "        probs[:,0] = 1\n",
        "        for k in range(127,227):\n",
        "          predict(model_3.activation.layers, k, probs, test_hidden_x1)\n",
        "        probs_final[i,:] = probs[:, 127:227]\n",
        "      k3 += probs_final.argmax(dim=1)\n",
        "\n",
        "y_pred_1 += [i.item() for i in k1]\n",
        "y_pred_2 += [i.item() for i in k2]\n",
        "y_pred_3 += [i.item() for i in k3]"
      ],
      "metadata": {
        "id": "qgHYgWuBgRSL"
      },
      "execution_count": null,
      "outputs": []
    },
    {
      "cell_type": "markdown",
      "source": [
        "Confusion_Matrices"
      ],
      "metadata": {
        "id": "x3lykr7IsfVC"
      }
    },
    {
      "cell_type": "code",
      "source": [
        "import matplotlib.pyplot as plt\n",
        "from sklearn.metrics import confusion_matrix\n",
        "import seaborn as sns\n",
        "\n",
        "# Generate three sample confusion matrices\n",
        "cm1 = confusion_matrix(y_test, y_pred_1, labels=[i for i in range(100)])\n",
        "cm2 = confusion_matrix(y_test, y_pred_2, labels=[i for i in range(100)])\n",
        "cm3 = confusion_matrix(y_test, y_pred_3, labels=[i for i in range(100)])\n",
        "\n",
        "# Create a figure with three subplots\n",
        "fig, axs = plt.subplots(1, 3, figsize=(15, 5))\n",
        "\n",
        "# Plot the first confusion matrix on the first subplot\n",
        "sns.heatmap(cm1, cmap=\"Greens\", ax=axs[0])\n",
        "axs[0].set_xlabel(\"Predicted\")\n",
        "axs[0].set_ylabel(\"Actual\")\n",
        "axs[0].set_title(\"Confusion Matrix 1\")\n",
        "\n",
        "# Plot the second confusion matrix on the second subplot\n",
        "sns.heatmap(cm2, cmap=\"Greens\", ax=axs[1])\n",
        "axs[1].set_xlabel(\"Predicted\")\n",
        "axs[1].set_ylabel(\"Actual\")\n",
        "axs[1].set_title(\"Confusion Matrix 2\")\n",
        "\n",
        "# Plot the third confusion matrix on the third subplot\n",
        "sns.heatmap(cm3, cmap=\"Greens\", ax=axs[2])\n",
        "axs[2].set_xlabel(\"Predicted\")\n",
        "axs[2].set_ylabel(\"Actual\")\n",
        "axs[2].set_title(\"Confusion Matrix 3\")\n",
        "\n",
        "# Adjust the layout and display the plot\n",
        "plt.tight_layout()\n",
        "plt.show()\n"
      ],
      "metadata": {
        "colab": {
          "base_uri": "https://localhost:8080/",
          "height": 356
        },
        "id": "PDIPBhzCqOaE",
        "outputId": "9ed23c88-e6be-46ee-a6d4-32c25e0f6e2a"
      },
      "execution_count": null,
      "outputs": [
        {
          "output_type": "display_data",
          "data": {
            "text/plain": [
              "<Figure size 1500x500 with 6 Axes>"
            ],
            "image/png": "[encoded data removed]"
          },
          "metadata": {}
        }
      ]
    },
    {
      "cell_type": "markdown",
      "source": [
        "**Accuracy, Precision, Recall**, **F1_score**"
      ],
      "metadata": {
        "id": "lv0PIE4jum3f"
      }
    },
    {
      "cell_type": "code",
      "source": [
        "from tabulate import tabulate\n",
        "from sklearn.metrics import accuracy_score, precision_score, recall_score, f1_score\n",
        "\n",
        "# Compute the performance metrics for each model\n",
        "acc1 = accuracy_score(y_test, y_pred_1)\n",
        "acc2 = accuracy_score(y_test, y_pred_2)\n",
        "acc3 = accuracy_score(y_test, y_pred_3)\n",
        "\n",
        "prec1 = precision_score(y_test, y_pred_1, average='macro')\n",
        "prec2 = precision_score(y_test, y_pred_2, average='macro')\n",
        "prec3 = precision_score(y_test, y_pred_3, average='macro')\n",
        "\n",
        "rec1 = recall_score(y_test, y_pred_1, average='macro')\n",
        "rec2 = recall_score(y_test, y_pred_2, average='macro')\n",
        "rec3 = recall_score(y_test, y_pred_3, average='macro')\n",
        "\n",
        "f1_1 = f1_score(y_test, y_pred_1, average='macro')\n",
        "f1_2 = f1_score(y_test, y_pred_2, average='macro')\n",
        "f1_3 = f1_score(y_test, y_pred_3, average='macro')\n",
        "\n",
        "# Create a table with the performance metrics\n",
        "headers = [\"Metric\", \"Model 1\", \"Model 2\", \"Model 3\"]\n",
        "table = [[\"Accuracy\", acc1, acc2, acc3],\n",
        "         [\"Precision\", prec1, prec2, prec3],\n",
        "         [\"Recall\", rec1, rec2, rec3],\n",
        "         [\"F1 score\", f1_1, f1_2, f1_3]]\n",
        "\n",
        "# Print the table\n",
        "print(tabulate(table, headers=headers))\n"
      ],
      "metadata": {
        "colab": {
          "base_uri": "https://localhost:8080/"
        },
        "id": "MwkWx-0LsmVQ",
        "outputId": "4ab3b4b0-761c-4fc2-dc1e-c2b5dcffe84a"
      },
      "execution_count": null,
      "outputs": [
        {
          "output_type": "stream",
          "name": "stdout",
          "text": [
            "Metric       Model 1    Model 2    Model 3\n",
            "---------  ---------  ---------  ---------\n",
            "Accuracy    0.2314     0.1671     0.1183\n",
            "Precision   0.237453   0.173658   0.147382\n",
            "Recall      0.2314     0.1671     0.1183\n",
            "F1 score    0.212231   0.163595   0.102985\n"
          ]
        },
        {
          "output_type": "stream",
          "name": "stderr",
          "text": [
            "/usr/local/lib/python3.9/dist-packages/sklearn/metrics/_classification.py:1344: UndefinedMetricWarning: Precision is ill-defined and being set to 0.0 in labels with no predicted samples. Use `zero_division` parameter to control this behavior.\n",
            "  _warn_prf(average, modifier, msg_start, len(result))\n"
          ]
        }
      ]
    },
    {
      "cell_type": "markdown",
      "source": [
        "**Comparing Performances**"
      ],
      "metadata": {
        "id": "C6cZEDNpvlxU"
      }
    },
    {
      "cell_type": "code",
      "source": [
        "import matplotlib.pyplot as plt\n",
        "\n",
        "# Plot the accuracy and epoch time of each model\n",
        "accuracy = [23.14, 16.71, 11.83]\n",
        "epoch_time = [61.13, 58.39, 274.26]\n",
        "\n",
        "fig, axs = plt.subplots(1, 2, figsize=(10, 5))\n",
        "\n",
        "axs[0].bar(range(3), accuracy)\n",
        "axs[0].set_xticks(range(3))\n",
        "axs[0].set_xticklabels(['Model 1', 'Model 2', 'Model 3'])\n",
        "axs[0].set_ylabel('Accuracy(%)')\n",
        "\n",
        "axs[1].bar(range(3), epoch_time)\n",
        "axs[1].set_xticks(range(3))\n",
        "axs[1].set_xticklabels(['Model 1', 'Model 2', 'Model 3'])\n",
        "axs[1].set_ylabel('Epoch time (s)')\n",
        "\n",
        "plt.tight_layout()\n",
        "plt.show()\n"
      ],
      "metadata": {
        "colab": {
          "base_uri": "https://localhost:8080/",
          "height": 507
        },
        "id": "b40thN7fupg5",
        "outputId": "151b2fee-f2b6-4bb2-8e16-815a749b7a5b"
      },
      "execution_count": null,
      "outputs": [
        {
          "output_type": "display_data",
          "data": {
            "text/plain": [
              "<Figure size 1000x500 with 2 Axes>"
            ],
            "image/png": "[encoded data removed]"
          },
          "metadata": {}
        }
      ]
    },
    {
      "cell_type": "code",
      "source": [],
      "metadata": {
        "id": "AFfzgJu3vi6-"
      },
      "execution_count": null,
      "outputs": []
    }
  ],
  "metadata": {
    "colab": {
      "provenance": [],
      "collapsed_sections": [
        "VX8nc5G3dBPK",
        "zrfaKY0veFy5",
        "FTsGiAAue7yE"
      ]
    },
    "kernelspec": {
      "display_name": "Python 3",
      "name": "python3"
    },
    "language_info": {
      "name": "python"
    },
    "widgets": {
      "application/vnd.jupyter.widget-state+json": {
        "c878da25f6d24bda965e292ee6156be9": {
          "model_module": "@jupyter-widgets/controls",
          "model_name": "HBoxModel",
          "model_module_version": "1.5.0",
          "state": {
            "_dom_classes": [],
            "_model_module": "@jupyter-widgets/controls",
            "_model_module_version": "1.5.0",
            "_model_name": "HBoxModel",
            "_view_count": null,
            "_view_module": "@jupyter-widgets/controls",
            "_view_module_version": "1.5.0",
            "_view_name": "HBoxView",
            "box_style": "",
            "children": [
              "IPY_MODEL_5583a9ef8d7846beb4371fe5322edd32",
              "IPY_MODEL_295bfcab851042eb9263b064a215289a",
              "IPY_MODEL_1524d03255144e669505a25178513d12"
            ],
            "layout": "IPY_MODEL_27e3ce4c34f6413083d2d3c0c4e65a61"
          }
        },
        "5583a9ef8d7846beb4371fe5322edd32": {
          "model_module": "@jupyter-widgets/controls",
          "model_name": "HTMLModel",
          "model_module_version": "1.5.0",
          "state": {
            "_dom_classes": [],
            "_model_module": "@jupyter-widgets/controls",
            "_model_module_version": "1.5.0",
            "_model_name": "HTMLModel",
            "_view_count": null,
            "_view_module": "@jupyter-widgets/controls",
            "_view_module_version": "1.5.0",
            "_view_name": "HTMLView",
            "description": "",
            "description_tooltip": null,
            "layout": "IPY_MODEL_a3b91ae554924887b32069dcd43972e1",
            "placeholder": "​",
            "style": "IPY_MODEL_2dc4b3e40fb144ccb324456fc63f1042",
            "value": "100%"
          }
        },
        "295bfcab851042eb9263b064a215289a": {
          "model_module": "@jupyter-widgets/controls",
          "model_name": "FloatProgressModel",
          "model_module_version": "1.5.0",
          "state": {
            "_dom_classes": [],
            "_model_module": "@jupyter-widgets/controls",
            "_model_module_version": "1.5.0",
            "_model_name": "FloatProgressModel",
            "_view_count": null,
            "_view_module": "@jupyter-widgets/controls",
            "_view_module_version": "1.5.0",
            "_view_name": "ProgressView",
            "bar_style": "success",
            "description": "",
            "description_tooltip": null,
            "layout": "IPY_MODEL_9d4d8c12be6c4b4598c22807f979082e",
            "max": 10,
            "min": 0,
            "orientation": "horizontal",
            "style": "IPY_MODEL_7891cbc7f88e4cb49d0ed514b1b5777a",
            "value": 10
          }
        },
        "1524d03255144e669505a25178513d12": {
          "model_module": "@jupyter-widgets/controls",
          "model_name": "HTMLModel",
          "model_module_version": "1.5.0",
          "state": {
            "_dom_classes": [],
            "_model_module": "@jupyter-widgets/controls",
            "_model_module_version": "1.5.0",
            "_model_name": "HTMLModel",
            "_view_count": null,
            "_view_module": "@jupyter-widgets/controls",
            "_view_module_version": "1.5.0",
            "_view_name": "HTMLView",
            "description": "",
            "description_tooltip": null,
            "layout": "IPY_MODEL_c52e928814864943bdb2f28cdf91c46a",
            "placeholder": "​",
            "style": "IPY_MODEL_346fdf4fe7824aaa8c972e7dbed94e00",
            "value": " 10/10 [10:12&lt;00:00, 61.13s/it]"
          }
        },
        "27e3ce4c34f6413083d2d3c0c4e65a61": {
          "model_module": "@jupyter-widgets/base",
          "model_name": "LayoutModel",
          "model_module_version": "1.2.0",
          "state": {
            "_model_module": "@jupyter-widgets/base",
            "_model_module_version": "1.2.0",
            "_model_name": "LayoutModel",
            "_view_count": null,
            "_view_module": "@jupyter-widgets/base",
            "_view_module_version": "1.2.0",
            "_view_name": "LayoutView",
            "align_content": null,
            "align_items": null,
            "align_self": null,
            "border": null,
            "bottom": null,
            "display": null,
            "flex": null,
            "flex_flow": null,
            "grid_area": null,
            "grid_auto_columns": null,
            "grid_auto_flow": null,
            "grid_auto_rows": null,
            "grid_column": null,
            "grid_gap": null,
            "grid_row": null,
            "grid_template_areas": null,
            "grid_template_columns": null,
            "grid_template_rows": null,
            "height": null,
            "justify_content": null,
            "justify_items": null,
            "left": null,
            "margin": null,
            "max_height": null,
            "max_width": null,
            "min_height": null,
            "min_width": null,
            "object_fit": null,
            "object_position": null,
            "order": null,
            "overflow": null,
            "overflow_x": null,
            "overflow_y": null,
            "padding": null,
            "right": null,
            "top": null,
            "visibility": null,
            "width": null
          }
        },
        "a3b91ae554924887b32069dcd43972e1": {
          "model_module": "@jupyter-widgets/base",
          "model_name": "LayoutModel",
          "model_module_version": "1.2.0",
          "state": {
            "_model_module": "@jupyter-widgets/base",
            "_model_module_version": "1.2.0",
            "_model_name": "LayoutModel",
            "_view_count": null,
            "_view_module": "@jupyter-widgets/base",
            "_view_module_version": "1.2.0",
            "_view_name": "LayoutView",
            "align_content": null,
            "align_items": null,
            "align_self": null,
            "border": null,
            "bottom": null,
            "display": null,
            "flex": null,
            "flex_flow": null,
            "grid_area": null,
            "grid_auto_columns": null,
            "grid_auto_flow": null,
            "grid_auto_rows": null,
            "grid_column": null,
            "grid_gap": null,
            "grid_row": null,
            "grid_template_areas": null,
            "grid_template_columns": null,
            "grid_template_rows": null,
            "height": null,
            "justify_content": null,
            "justify_items": null,
            "left": null,
            "margin": null,
            "max_height": null,
            "max_width": null,
            "min_height": null,
            "min_width": null,
            "object_fit": null,
            "object_position": null,
            "order": null,
            "overflow": null,
            "overflow_x": null,
            "overflow_y": null,
            "padding": null,
            "right": null,
            "top": null,
            "visibility": null,
            "width": null
          }
        },
        "2dc4b3e40fb144ccb324456fc63f1042": {
          "model_module": "@jupyter-widgets/controls",
          "model_name": "DescriptionStyleModel",
          "model_module_version": "1.5.0",
          "state": {
            "_model_module": "@jupyter-widgets/controls",
            "_model_module_version": "1.5.0",
            "_model_name": "DescriptionStyleModel",
            "_view_count": null,
            "_view_module": "@jupyter-widgets/base",
            "_view_module_version": "1.2.0",
            "_view_name": "StyleView",
            "description_width": ""
          }
        },
        "9d4d8c12be6c4b4598c22807f979082e": {
          "model_module": "@jupyter-widgets/base",
          "model_name": "LayoutModel",
          "model_module_version": "1.2.0",
          "state": {
            "_model_module": "@jupyter-widgets/base",
            "_model_module_version": "1.2.0",
            "_model_name": "LayoutModel",
            "_view_count": null,
            "_view_module": "@jupyter-widgets/base",
            "_view_module_version": "1.2.0",
            "_view_name": "LayoutView",
            "align_content": null,
            "align_items": null,
            "align_self": null,
            "border": null,
            "bottom": null,
            "display": null,
            "flex": null,
            "flex_flow": null,
            "grid_area": null,
            "grid_auto_columns": null,
            "grid_auto_flow": null,
            "grid_auto_rows": null,
            "grid_column": null,
            "grid_gap": null,
            "grid_row": null,
            "grid_template_areas": null,
            "grid_template_columns": null,
            "grid_template_rows": null,
            "height": null,
            "justify_content": null,
            "justify_items": null,
            "left": null,
            "margin": null,
            "max_height": null,
            "max_width": null,
            "min_height": null,
            "min_width": null,
            "object_fit": null,
            "object_position": null,
            "order": null,
            "overflow": null,
            "overflow_x": null,
            "overflow_y": null,
            "padding": null,
            "right": null,
            "top": null,
            "visibility": null,
            "width": null
          }
        },
        "7891cbc7f88e4cb49d0ed514b1b5777a": {
          "model_module": "@jupyter-widgets/controls",
          "model_name": "ProgressStyleModel",
          "model_module_version": "1.5.0",
          "state": {
            "_model_module": "@jupyter-widgets/controls",
            "_model_module_version": "1.5.0",
            "_model_name": "ProgressStyleModel",
            "_view_count": null,
            "_view_module": "@jupyter-widgets/base",
            "_view_module_version": "1.2.0",
            "_view_name": "StyleView",
            "bar_color": null,
            "description_width": ""
          }
        },
        "c52e928814864943bdb2f28cdf91c46a": {
          "model_module": "@jupyter-widgets/base",
          "model_name": "LayoutModel",
          "model_module_version": "1.2.0",
          "state": {
            "_model_module": "@jupyter-widgets/base",
            "_model_module_version": "1.2.0",
            "_model_name": "LayoutModel",
            "_view_count": null,
            "_view_module": "@jupyter-widgets/base",
            "_view_module_version": "1.2.0",
            "_view_name": "LayoutView",
            "align_content": null,
            "align_items": null,
            "align_self": null,
            "border": null,
            "bottom": null,
            "display": null,
            "flex": null,
            "flex_flow": null,
            "grid_area": null,
            "grid_auto_columns": null,
            "grid_auto_flow": null,
            "grid_auto_rows": null,
            "grid_column": null,
            "grid_gap": null,
            "grid_row": null,
            "grid_template_areas": null,
            "grid_template_columns": null,
            "grid_template_rows": null,
            "height": null,
            "justify_content": null,
            "justify_items": null,
            "left": null,
            "margin": null,
            "max_height": null,
            "max_width": null,
            "min_height": null,
            "min_width": null,
            "object_fit": null,
            "object_position": null,
            "order": null,
            "overflow": null,
            "overflow_x": null,
            "overflow_y": null,
            "padding": null,
            "right": null,
            "top": null,
            "visibility": null,
            "width": null
          }
        },
        "346fdf4fe7824aaa8c972e7dbed94e00": {
          "model_module": "@jupyter-widgets/controls",
          "model_name": "DescriptionStyleModel",
          "model_module_version": "1.5.0",
          "state": {
            "_model_module": "@jupyter-widgets/controls",
            "_model_module_version": "1.5.0",
            "_model_name": "DescriptionStyleModel",
            "_view_count": null,
            "_view_module": "@jupyter-widgets/base",
            "_view_module_version": "1.2.0",
            "_view_name": "StyleView",
            "description_width": ""
          }
        }
      }
    }
  },
  "nbformat": 4,
  "nbformat_minor": 0
}